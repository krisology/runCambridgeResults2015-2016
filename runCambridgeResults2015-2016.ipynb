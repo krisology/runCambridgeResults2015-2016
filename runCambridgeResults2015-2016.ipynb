{
 "cells": [
  {
   "cell_type": "code",
   "execution_count": 1,
   "metadata": {},
   "outputs": [
    {
     "data": {
      "text/plain": [
       "'0.20.3'"
      ]
     },
     "execution_count": 1,
     "metadata": {},
     "output_type": "execute_result"
    }
   ],
   "source": [
    "import warnings\n",
    "warnings.simplefilter('ignore', FutureWarning)\n",
    "\n",
    "from pandas import *\n",
    "\n",
    "#pandas.set_option('display.max_rows', None)\n",
    "\n",
    "pandas.__version__"
   ]
  },
  {
   "cell_type": "markdown",
   "metadata": {},
   "source": [
    "# A bit of analysis of runCambridge results"
   ]
  },
  {
   "cell_type": "markdown",
   "metadata": {},
   "source": [
    "When we were discussing the best female/male club runner in the ERC meeting I realised I didn't have a good idea of who should be nominated. Later I realised I could probably get the results from Run Cambridge and get a better idea so I asked Andy Irvine and he provided a dump of all the results from Oct 2015 - Sept 2016.\n",
    "\n",
    "\n",
    "First load all the results downloaded from runCambridge into the analysis. I haven't done any data cleanup as it all looks pretty good. As this is just for guidance I didn't think it was worth the effort.\n",
    "\n",
    "Show what columns are available in the data set.\n",
    "\n",
    "BTW df is just a name I have given the dataframe, and a dataframe is like a table that has been created from the data dump i.e. it has columns and rows. "
   ]
  },
  {
   "cell_type": "code",
   "execution_count": 2,
   "metadata": {},
   "outputs": [
    {
     "data": {
      "text/plain": [
       "Index(['race id', 'race type', 'start date', 'finish date', 'name',\n",
       "       'subevent num', 'subevent name', 'distance', 'distance units',\n",
       "       'accurate', 'venue', 'url', 'runner id', 'runner name', 'gun time',\n",
       "       'position', 'chip time', 'm/f position', 'status', 'pb', 'category',\n",
       "       'category position'],\n",
       "      dtype='object')"
      ]
     },
     "execution_count": 2,
     "metadata": {},
     "output_type": "execute_result"
    }
   ],
   "source": [
    "df = read_excel('runCambridgeResults2015-2016.xlsx')\n",
    "df.columns"
   ]
  },
  {
   "cell_type": "markdown",
   "metadata": {},
   "source": [
    "Show the distinct race names and the number of results per race. Unsurprisingly Cambridge and Wimpole parkruns have the most results."
   ]
  },
  {
   "cell_type": "code",
   "execution_count": 3,
   "metadata": {},
   "outputs": [
    {
     "data": {
      "text/plain": [
       "Cambridge parkrun                                1469\n",
       "Wimpole Estate parkrun                            957\n",
       "Cambridge Half Marathon                           129\n",
       "Kevin Henry 5K League - C&C                       115\n",
       "Kevin Henry 5K League - Cambridge Tri              92\n",
       "Kevin Henry 5K League - Ely Runners                80\n",
       "Cambridgeshire Cross-Country Championships         79\n",
       "Huntingdon parkrun                                 76\n",
       "Peterborough parkrun                               70\n",
       "Endure 24                                          69\n",
       "Kevin Henry 5K League - Newmarket Joggers          59\n",
       "Perkins Great Eastern Run                          55\n",
       "SEAA (Southern) XC Championships                   53\n",
       "Cambridge Cambourne 10K                            53\n",
       "Kevin Henry 5K League - Haverhill RC               52\n",
       "Kevin Henry 5K League - Saffron Striders           48\n",
       "SEAA 12 & 6 Stage Road Relay Championships         48\n",
       "C&C Boxing Day Run                                 46\n",
       "National Cross Country Championships               38\n",
       "Frostbite League - St Neots                        36\n",
       "English National Road Relays                       36\n",
       "Cambridge Town and Gown 10K                        35\n",
       "Abington 10k                                       35\n",
       "St Neots Riverside Half Marathon                   35\n",
       "Ely New Year's Eve 10k                             34\n",
       "Girton 5K                                          34\n",
       "The Birketts Round Norfolk Relay                   34\n",
       "Wimpole Belts 10k                                  33\n",
       "The Boundary Run                                   30\n",
       "Virgin Money London Marathon                       30\n",
       "                                                 ... \n",
       "Endurancelife CTS North York Moors Ultra            1\n",
       "Milton Keynes Running Festival Half Marathon        1\n",
       "San Sebastian Marathon                              1\n",
       "Lowestoft parkrun                                   1\n",
       "Ely Festive 5K                                      1\n",
       "Ross Peers East Cambs Half Marathon                 1\n",
       "Littleport 10k                                      1\n",
       "Eye 10K                                             1\n",
       "Clermont Waterfront parkrun                         1\n",
       "Zurich Marato Barcelona                             1\n",
       "Harlow parkrun                                      1\n",
       "Bright 10                                           1\n",
       "Barney Memorial 5K                                  1\n",
       "St. Annes Park Run                                  1\n",
       "Chelmsford Marathon                                 1\n",
       "Vitality Reading Half Marathon                      1\n",
       "Conkers parkrun                                     1\n",
       "Kent Roadrunner Marathon                            1\n",
       "Kings Lynn parkrun                                  1\n",
       "Sewerby parkrun                                     1\n",
       "Plusnet Yorkshire Marathon                          1\n",
       "Milton Keynes Winter Half Marathon                  1\n",
       "Zary parkrun                                        1\n",
       "Warrington parkrun                                  1\n",
       "MBNA Chester Marathon                               1\n",
       "Waterside 10k                                       1\n",
       "Queen's parkrun                                     1\n",
       "Bridge of the Gods Half Marathon                    1\n",
       "La Very Chantilly                                   1\n",
       "Manchester Half Marathon                            1\n",
       "Name: name, Length: 233, dtype: int64"
      ]
     },
     "execution_count": 3,
     "metadata": {},
     "output_type": "execute_result"
    }
   ],
   "source": [
    "df['name'].value_counts()"
   ]
  },
  {
   "cell_type": "markdown",
   "metadata": {},
   "source": [
    "Total number of results in data set."
   ]
  },
  {
   "cell_type": "code",
   "execution_count": 4,
   "metadata": {},
   "outputs": [
    {
     "data": {
      "text/plain": [
       "5064"
      ]
     },
     "execution_count": 4,
     "metadata": {},
     "output_type": "execute_result"
    }
   ],
   "source": [
    "totalNumResults = len(df)\n",
    "totalNumResults"
   ]
  },
  {
   "cell_type": "markdown",
   "metadata": {},
   "source": [
    "If I focus on what we might consider club races and only include races with the text C&C or League or Championships or Cambourne or Relay in the name then I get this many results. I've created a new dataframe here called justCCraces."
   ]
  },
  {
   "cell_type": "code",
   "execution_count": 5,
   "metadata": {},
   "outputs": [
    {
     "data": {
      "text/plain": [
       "1016"
      ]
     },
     "execution_count": 5,
     "metadata": {},
     "output_type": "execute_result"
    }
   ],
   "source": [
    "justCCraces = df[df['name'].str.contains('C&C|Frostbite|Kevin Henry|Championships|Cambourne|Relay')]\n",
    "len(justCCraces)"
   ]
  },
  {
   "cell_type": "markdown",
   "metadata": {},
   "source": [
    "And these are the races in my new result set."
   ]
  },
  {
   "cell_type": "code",
   "execution_count": 6,
   "metadata": {},
   "outputs": [
    {
     "data": {
      "text/plain": [
       "Kevin Henry 5K League - C&C                   115\n",
       "Kevin Henry 5K League - Cambridge Tri          92\n",
       "Kevin Henry 5K League - Ely Runners            80\n",
       "Cambridgeshire Cross-Country Championships     79\n",
       "Kevin Henry 5K League - Newmarket Joggers      59\n",
       "SEAA (Southern) XC Championships               53\n",
       "Cambridge Cambourne 10K                        53\n",
       "Kevin Henry 5K League - Haverhill RC           52\n",
       "SEAA 12 & 6 Stage Road Relay Championships     48\n",
       "Kevin Henry 5K League - Saffron Striders       48\n",
       "C&C Boxing Day Run                             46\n",
       "National Cross Country Championships           38\n",
       "Frostbite League - St Neots                    36\n",
       "English National Road Relays                   36\n",
       "The Birketts Round Norfolk Relay               34\n",
       "Frostbite League - March                       26\n",
       "The Hereward Relay                             24\n",
       "Frostbite League - Hunts AC                    21\n",
       "Frostbite League - BRJ                         17\n",
       "Frostbite League - Riverside Runners           17\n",
       "Frostbite League - Bushfield                   16\n",
       "Frostbite League - Bourne                      11\n",
       "BMAF Cross-Country Championships                5\n",
       "British Masters Road Relays                     4\n",
       "IAAF World Half Marathon Championships          4\n",
       "BMAF 10K Championships                          2\n",
       "Name: name, dtype: int64"
      ]
     },
     "execution_count": 6,
     "metadata": {},
     "output_type": "execute_result"
    }
   ],
   "source": [
    "justCCraces['name'].value_counts()"
   ]
  },
  {
   "cell_type": "markdown",
   "metadata": {},
   "source": [
    "### Top 40 club runners\n",
    "So in that case here is the top 40 runners with the most occurrences for club races. There is no sex column in the data so it's male and female combined."
   ]
  },
  {
   "cell_type": "code",
   "execution_count": 7,
   "metadata": {},
   "outputs": [
    {
     "data": {
      "text/plain": [
       "Ben Chamberlain                16\n",
       "Alex Eggeman                   12\n",
       "Gerald Meah                    12\n",
       "Rachael Leah                   11\n",
       "Ian Richardson                 11\n",
       "Miles Benyan                   11\n",
       "Charlie Ritchie                11\n",
       "Glyn Smith                     11\n",
       "Andy Irvine                    11\n",
       "John Ferguson                  10\n",
       "Becca Frake                    10\n",
       "Ben Jones                       9\n",
       "Jonathan Escalante-Phillips     9\n",
       "Chris Hurcomb                   8\n",
       "Martyn Brearley                 8\n",
       "Tim Long                        8\n",
       "Mike Brentnall                  8\n",
       "Andrew Shields                  8\n",
       "Neil Costello                   8\n",
       "Claire Somerton                 8\n",
       "Claire Wilson                   8\n",
       "Jen Richardson                  8\n",
       "Alex Geoghegan                  8\n",
       "Kerion Hunt                     7\n",
       "Kevin O'Holleran                7\n",
       "Margaret Phillips               7\n",
       "Mary Twitchett                  7\n",
       "Alex Downie                     7\n",
       "Rosa Sampson Geroski            7\n",
       "Dave Mail                       7\n",
       "Charlie Wartnaby                7\n",
       "Michael Moore                   7\n",
       "Kristoffer Semple               7\n",
       "Liam O'Grady                    7\n",
       "Patrick O'Hare                  7\n",
       "Carla Brown                     7\n",
       "Karen Richardson                6\n",
       "Isabelle Lemasson               6\n",
       "Pauline Blake                   6\n",
       "Jo Eggeman                      6\n",
       "Name: runner name, dtype: int64"
      ]
     },
     "execution_count": 7,
     "metadata": {},
     "output_type": "execute_result"
    }
   ],
   "source": [
    "justCCraces['runner name'].value_counts().head(40)"
   ]
  },
  {
   "cell_type": "markdown",
   "metadata": {},
   "source": [
    "### Excluding Parkrun\n",
    "Out of curiosity, I'm going to do the same but just exclude Parkrun. I'm searching for 'arkrun' because it's case sensitive, then reversing it with the '~'. I've created another new dataframe here called notParkrun.\n",
    "\n",
    "So now the number of results is greater."
   ]
  },
  {
   "cell_type": "code",
   "execution_count": 8,
   "metadata": {},
   "outputs": [
    {
     "data": {
      "text/plain": [
       "2354"
      ]
     },
     "execution_count": 8,
     "metadata": {},
     "output_type": "execute_result"
    }
   ],
   "source": [
    "notParkrun = df[~df['name'].str.contains('arkrun')]\n",
    "len(notParkrun)"
   ]
  },
  {
   "cell_type": "markdown",
   "metadata": {},
   "source": [
    "And the list of runners has changed a bit."
   ]
  },
  {
   "cell_type": "code",
   "execution_count": 9,
   "metadata": {},
   "outputs": [
    {
     "data": {
      "text/plain": [
       "Ian Richardson                 54\n",
       "Karen Richardson               48\n",
       "Ben Chamberlain                39\n",
       "Rachael Leah                   35\n",
       "Gerald Meah                    30\n",
       "Andy Irvine                    25\n",
       "Paul Jones                     25\n",
       "Chris Hurcomb                  25\n",
       "Jen Richardson                 24\n",
       "Matt Slater                    24\n",
       "Glyn Smith                     24\n",
       "Charlie Wartnaby               23\n",
       "Andrew Shields                 23\n",
       "John Ferguson                  23\n",
       "Mike Brentnall                 23\n",
       "Isabelle Lemasson              23\n",
       "Kevin O'Holleran               22\n",
       "Daniel Kitchie                 21\n",
       "Charlie Ritchie                21\n",
       "Alex Geoghegan                 19\n",
       "Chris Darling                  18\n",
       "Jonathan Escalante-Phillips    18\n",
       "Axel Finke                     18\n",
       "Martyn Brearley                18\n",
       "Dave Mail                      17\n",
       "Pauline Blake                  17\n",
       "Katherine Hymers               17\n",
       "Paula Kessler                  17\n",
       "Carmel McEniery                17\n",
       "Sam Lewsey                     17\n",
       "Alex Downie                    17\n",
       "Kristoffer Semple              16\n",
       "Richard Lyle                   16\n",
       "Jon Anderson                   16\n",
       "Anna Riu                       16\n",
       "Paul Makowski                  16\n",
       "Neville Hawkins                16\n",
       "Tim Long                       15\n",
       "Becca Frake                    15\n",
       "Alex Eggeman                   15\n",
       "Name: runner name, dtype: int64"
      ]
     },
     "execution_count": 9,
     "metadata": {},
     "output_type": "execute_result"
    }
   ],
   "source": [
    "notParkrun['runner name'].value_counts().head(40)"
   ]
  },
  {
   "cell_type": "markdown",
   "metadata": {
    "collapsed": true
   },
   "source": [
    "### All races\n",
    "And for completeness let's just look at all the results using the original dataframe."
   ]
  },
  {
   "cell_type": "code",
   "execution_count": 10,
   "metadata": {},
   "outputs": [
    {
     "data": {
      "text/plain": [
       "Ian Richardson                 98\n",
       "Karen Richardson               78\n",
       "Ben Chamberlain                77\n",
       "Rachael Leah                   73\n",
       "Mike Brentnall                 72\n",
       "Pauline Blake                  69\n",
       "Jen Richardson                 65\n",
       "Chris Hurcomb                  57\n",
       "Andy Irvine                    55\n",
       "Paul Jones                     54\n",
       "Margaret Phillips              51\n",
       "Scott White                    50\n",
       "Alex Geoghegan                 49\n",
       "Gerald Meah                    49\n",
       "Julie Stringer                 48\n",
       "Jonathan Escalante-Phillips    47\n",
       "Andrew Taylor                  46\n",
       "Steve Anderson                 45\n",
       "Mike Difranco                  45\n",
       "Chris Darling                  45\n",
       "Martyn Brearley                45\n",
       "Andrew Parsons                 42\n",
       "Andrew Unsworth                42\n",
       "Karl Jones                     41\n",
       "Joseph Philip                  41\n",
       "Avril Monmont                  40\n",
       "Sean Beeby                     40\n",
       "Alex Downie                    39\n",
       "Carmel McEniery                38\n",
       "Anette Laver                   37\n",
       "                               ..\n",
       "Mary Holmes                    29\n",
       "Alex Eggeman                   28\n",
       "Charlie Ritchie                28\n",
       "Andrew Shields                 28\n",
       "John Ferguson                  27\n",
       "Steve Giles                    27\n",
       "Richard Lyle                   26\n",
       "Diana Braverman                26\n",
       "Julia Hudson                   26\n",
       "Sam Lewsey                     26\n",
       "Katie Tween                    26\n",
       "Suzy Tautz                     25\n",
       "Lynn Roberts                   25\n",
       "Jo Eggeman                     25\n",
       "Tim Long                       24\n",
       "Matt Slater                    24\n",
       "Liam O'Grady                   23\n",
       "Charlie Wartnaby               23\n",
       "Isaac Pembery                  23\n",
       "Kevin O'Holleran               23\n",
       "Stuart Matthews                23\n",
       "Andres Arcia                   23\n",
       "Andy Gardiner                  22\n",
       "Alison Summers                 22\n",
       "Jenny Walsh                    22\n",
       "Elliot Mepham                  22\n",
       "Jayne Arthur                   21\n",
       "Miles Benyan                   21\n",
       "Amy Cope                       21\n",
       "Anna Riu                       20\n",
       "Name: runner name, Length: 80, dtype: int64"
      ]
     },
     "execution_count": 10,
     "metadata": {},
     "output_type": "execute_result"
    }
   ],
   "source": [
    "df['runner name'].value_counts().head(80)"
   ]
  },
  {
   "cell_type": "code",
   "execution_count": null,
   "metadata": {
    "collapsed": true
   },
   "outputs": [],
   "source": []
  }
 ],
 "metadata": {
  "kernelspec": {
   "display_name": "Python 3",
   "language": "python",
   "name": "python3"
  },
  "language_info": {
   "codemirror_mode": {
    "name": "ipython",
    "version": 3
   },
   "file_extension": ".py",
   "mimetype": "text/x-python",
   "name": "python",
   "nbconvert_exporter": "python",
   "pygments_lexer": "ipython3",
   "version": "3.6.3"
  }
 },
 "nbformat": 4,
 "nbformat_minor": 1
}
